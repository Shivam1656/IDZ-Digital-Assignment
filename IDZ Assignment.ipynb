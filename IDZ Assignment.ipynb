{
 "cells": [
  {
   "cell_type": "markdown",
   "id": "a9870d79",
   "metadata": {},
   "source": [
    "## Loading importent libraries for Data manupulation and visualization"
   ]
  },
  {
   "cell_type": "code",
   "execution_count": 1,
   "id": "cf520a85",
   "metadata": {},
   "outputs": [],
   "source": [
    "import pandas as pd\n",
    "import numpy as np\n",
    "import matplotlib.pyplot as plt\n",
    "import seaborn as sns\n",
    "from pandas.io import excel"
   ]
  },
  {
   "cell_type": "markdown",
   "id": "3c9f186f",
   "metadata": {},
   "source": [
    "## Reading Our Dataset"
   ]
  },
  {
   "cell_type": "code",
   "execution_count": 2,
   "id": "cea0b9d6",
   "metadata": {},
   "outputs": [],
   "source": [
    "df=pd.read_excel('IDZ Digital data analyst (1) (4).xls')"
   ]
  },
  {
   "cell_type": "markdown",
   "id": "785eaad1",
   "metadata": {},
   "source": [
    "### Reading first five row"
   ]
  },
  {
   "cell_type": "code",
   "execution_count": 3,
   "id": "9a1a190e",
   "metadata": {},
   "outputs": [
    {
     "data": {
      "text/html": [
       "<div>\n",
       "<style scoped>\n",
       "    .dataframe tbody tr th:only-of-type {\n",
       "        vertical-align: middle;\n",
       "    }\n",
       "\n",
       "    .dataframe tbody tr th {\n",
       "        vertical-align: top;\n",
       "    }\n",
       "\n",
       "    .dataframe thead th {\n",
       "        text-align: right;\n",
       "    }\n",
       "</style>\n",
       "<table border=\"1\" class=\"dataframe\">\n",
       "  <thead>\n",
       "    <tr style=\"text-align: right;\">\n",
       "      <th></th>\n",
       "      <th>First Name</th>\n",
       "      <th>Last  Name</th>\n",
       "      <th>Gender</th>\n",
       "      <th>Age</th>\n",
       "      <th>Occupation</th>\n",
       "      <th>Salary</th>\n",
       "      <th>Marital Status</th>\n",
       "      <th>No. of Children</th>\n",
       "    </tr>\n",
       "  </thead>\n",
       "  <tbody>\n",
       "    <tr>\n",
       "      <th>0</th>\n",
       "      <td>Jacob</td>\n",
       "      <td>Robinson</td>\n",
       "      <td>Male</td>\n",
       "      <td>58</td>\n",
       "      <td>Lawer</td>\n",
       "      <td>6779</td>\n",
       "      <td>Married</td>\n",
       "      <td>2</td>\n",
       "    </tr>\n",
       "    <tr>\n",
       "      <th>1</th>\n",
       "      <td>Grace</td>\n",
       "      <td>Taylor</td>\n",
       "      <td>Female</td>\n",
       "      <td>36</td>\n",
       "      <td>Insurer</td>\n",
       "      <td>4466</td>\n",
       "      <td>Married</td>\n",
       "      <td>1</td>\n",
       "    </tr>\n",
       "    <tr>\n",
       "      <th>2</th>\n",
       "      <td>Charlie</td>\n",
       "      <td>Wilson</td>\n",
       "      <td>Male</td>\n",
       "      <td>58</td>\n",
       "      <td>Aeroplane Pilot</td>\n",
       "      <td>5786</td>\n",
       "      <td>Single</td>\n",
       "      <td>0</td>\n",
       "    </tr>\n",
       "    <tr>\n",
       "      <th>3</th>\n",
       "      <td>Vanessa</td>\n",
       "      <td>Farrell</td>\n",
       "      <td>Female</td>\n",
       "      <td>23</td>\n",
       "      <td>Lawer</td>\n",
       "      <td>3403</td>\n",
       "      <td>Married</td>\n",
       "      <td>2</td>\n",
       "    </tr>\n",
       "    <tr>\n",
       "      <th>4</th>\n",
       "      <td>Fenton</td>\n",
       "      <td>Harrison</td>\n",
       "      <td>Male</td>\n",
       "      <td>21</td>\n",
       "      <td>Architect</td>\n",
       "      <td>693</td>\n",
       "      <td>Married</td>\n",
       "      <td>0</td>\n",
       "    </tr>\n",
       "  </tbody>\n",
       "</table>\n",
       "</div>"
      ],
      "text/plain": [
       "  First Name  Last  Name  Gender   Age       Occupation   Salary  \\\n",
       "0      Jacob    Robinson    Male    58            Lawer     6779   \n",
       "1      Grace      Taylor  Female    36          Insurer     4466   \n",
       "2    Charlie      Wilson    Male    58  Aeroplane Pilot     5786   \n",
       "3    Vanessa     Farrell  Female    23            Lawer     3403   \n",
       "4     Fenton    Harrison    Male    21        Architect      693   \n",
       "\n",
       "   Marital Status   No. of Children  \n",
       "0         Married                 2  \n",
       "1         Married                 1  \n",
       "2          Single                 0  \n",
       "3         Married                 2  \n",
       "4         Married                 0  "
      ]
     },
     "execution_count": 3,
     "metadata": {},
     "output_type": "execute_result"
    }
   ],
   "source": [
    "df.head()"
   ]
  },
  {
   "cell_type": "markdown",
   "id": "48a14913",
   "metadata": {},
   "source": [
    "## Seeing some information about our dataset"
   ]
  },
  {
   "cell_type": "code",
   "execution_count": 5,
   "id": "bb8d6087",
   "metadata": {},
   "outputs": [
    {
     "name": "stdout",
     "output_type": "stream",
     "text": [
      "<class 'pandas.core.frame.DataFrame'>\n",
      "RangeIndex: 1000 entries, 0 to 999\n",
      "Data columns (total 8 columns):\n",
      " #   Column            Non-Null Count  Dtype \n",
      "---  ------            --------------  ----- \n",
      " 0   First Name        1000 non-null   object\n",
      " 1    Last  Name       1000 non-null   object\n",
      " 2    Gender           1000 non-null   object\n",
      " 3    Age              1000 non-null   int64 \n",
      " 4    Occupation       1000 non-null   object\n",
      " 5    Salary           1000 non-null   int64 \n",
      " 6    Marital Status   1000 non-null   object\n",
      " 7    No. of Children  1000 non-null   int64 \n",
      "dtypes: int64(3), object(5)\n",
      "memory usage: 62.6+ KB\n"
     ]
    }
   ],
   "source": [
    "df.info()"
   ]
  },
  {
   "cell_type": "markdown",
   "id": "3783b35c",
   "metadata": {},
   "source": [
    "### *There are total 1000 entries and no null value to our dataset*\n",
    "#### In our dataset there are only two datatype *Object*  and *Int*"
   ]
  },
  {
   "cell_type": "markdown",
   "id": "f2420353",
   "metadata": {},
   "source": [
    "### Total Columns in our dataset"
   ]
  },
  {
   "cell_type": "code",
   "execution_count": 6,
   "id": "02e0774a",
   "metadata": {},
   "outputs": [
    {
     "data": {
      "text/plain": [
       "['First Name',\n",
       " ' Last  Name',\n",
       " ' Gender',\n",
       " ' Age',\n",
       " ' Occupation',\n",
       " ' Salary',\n",
       " ' Marital Status',\n",
       " ' No. of Children']"
      ]
     },
     "execution_count": 6,
     "metadata": {},
     "output_type": "execute_result"
    }
   ],
   "source": [
    "df.columns.tolist()"
   ]
  },
  {
   "cell_type": "code",
   "execution_count": 7,
   "id": "7ff43d66",
   "metadata": {},
   "outputs": [
    {
     "data": {
      "text/plain": [
       "8"
      ]
     },
     "execution_count": 7,
     "metadata": {},
     "output_type": "execute_result"
    }
   ],
   "source": [
    "len(df.columns.tolist())"
   ]
  },
  {
   "cell_type": "markdown",
   "id": "a39ab126",
   "metadata": {},
   "source": [
    "### *In our dataset we have total 8 columns*"
   ]
  },
  {
   "cell_type": "markdown",
   "id": "d36e9d36",
   "metadata": {},
   "source": [
    "# Handling the duplicate"
   ]
  },
  {
   "cell_type": "markdown",
   "id": "51e63e13",
   "metadata": {},
   "source": [
    "#### In this dataset we can not remove duplicate because its duplicate cantain a lot of information if we remove it then our machine learning model may be less accurate"
   ]
  },
  {
   "cell_type": "markdown",
   "id": "d497588c",
   "metadata": {},
   "source": [
    "# 1.Finding correlation using corr() function"
   ]
  },
  {
   "cell_type": "markdown",
   "id": "99dad84e",
   "metadata": {},
   "source": [
    "###  Correlation coefficient can only be calculated on the numerical attributes (floats and integers), therefore, only the numeric attributes will be selected."
   ]
  },
  {
   "cell_type": "code",
   "execution_count": 91,
   "id": "b507d066",
   "metadata": {},
   "outputs": [
    {
     "name": "stdout",
     "output_type": "stream",
     "text": [
      "There is total 1 strongly correlated value: Salary    1.0\n",
      "Name:  Salary, dtype: float64\n",
      "\n"
     ]
    }
   ],
   "source": [
    "df_num=df.select_dtypes(include=['float64','int64'])\n",
    "df_num_corr=df_num.corr()[' Salary'][:-1]\n",
    "top_feature=df_num_corr[abs(df_num_corr)>0.5].sort_values(ascending=False)\n",
    "print(\"There is total {} strongly correlated value:{}\\n\".format(len(top_feature),top_feature))"
   ]
  },
  {
   "cell_type": "markdown",
   "id": "545759c1",
   "metadata": {},
   "source": [
    "### There is no correlated value with Salary"
   ]
  },
  {
   "cell_type": "markdown",
   "id": "3c208cb7",
   "metadata": {},
   "source": [
    "# 2.Log Transformation\n",
    "### In this section we are going to see that our data is normally distributed or we have to perform log transformation"
   ]
  },
  {
   "cell_type": "code",
   "execution_count": 102,
   "id": "0161cf84",
   "metadata": {},
   "outputs": [],
   "source": [
    "import warnings \n",
    "warnings.filterwarnings('ignore')"
   ]
  },
  {
   "cell_type": "code",
   "execution_count": 103,
   "id": "0edc8852",
   "metadata": {},
   "outputs": [
    {
     "name": "stdout",
     "output_type": "stream",
     "text": [
      "Skewness -0.011776\n"
     ]
    },
    {
     "data": {
      "image/png": "[encoded data removed]",
      "text/plain": [
       "<Figure size 360x360 with 1 Axes>"
      ]
     },
     "metadata": {},
     "output_type": "display_data"
    }
   ],
   "source": [
    "sns.set(rc={'figure.figsize':(5,5)})\n",
    "sa_untransformed=sns.distplot(df[' Salary'])\n",
    "print(\"Skewness %f\" %df[' Salary'].skew())"
   ]
  },
  {
   "cell_type": "code",
   "execution_count": 104,
   "id": "9121c6ba",
   "metadata": {},
   "outputs": [
    {
     "name": "stdout",
     "output_type": "stream",
     "text": [
      "Skewness -1.042796\n"
     ]
    },
    {
     "data": {
      "image/png": "[encoded data removed]",
      "text/plain": [
       "<Figure size 360x360 with 1 Axes>"
      ]
     },
     "metadata": {},
     "output_type": "display_data"
    }
   ],
   "source": [
    "sa_transformed=np.log(df[' Salary'])\n",
    "print(\"Skewness %f\" %sa_transformed.skew())\n",
    "sns.distplot(sa_transformed);"
   ]
  },
  {
   "cell_type": "code",
   "execution_count": 83,
   "id": "8d6d126c",
   "metadata": {},
   "outputs": [
    {
     "data": {
      "text/plain": [
       "Ryan         13\n",
       "Tara         12\n",
       "Arianna      11\n",
       "Frederick    11\n",
       "Julian       10\n",
       "             ..\n",
       "Dainton       1\n",
       "Ellia         1\n",
       "Abraham       1\n",
       "Natalie       1\n",
       "Amy           1\n",
       "Name: First Name, Length: 206, dtype: int64"
      ]
     },
     "execution_count": 83,
     "metadata": {},
     "output_type": "execute_result"
    }
   ],
   "source": [
    "df['First Name'].value_counts()"
   ]
  },
  {
   "cell_type": "markdown",
   "id": "97d08a80",
   "metadata": {},
   "source": [
    "## 2. As we can see from above analysis that we have some similar first name"
   ]
  },
  {
   "cell_type": "code",
   "execution_count": 9,
   "id": "9f44dc03",
   "metadata": {},
   "outputs": [
    {
     "data": {
      "text/html": [
       "<div>\n",
       "<style scoped>\n",
       "    .dataframe tbody tr th:only-of-type {\n",
       "        vertical-align: middle;\n",
       "    }\n",
       "\n",
       "    .dataframe tbody tr th {\n",
       "        vertical-align: top;\n",
       "    }\n",
       "\n",
       "    .dataframe thead th {\n",
       "        text-align: right;\n",
       "    }\n",
       "</style>\n",
       "<table border=\"1\" class=\"dataframe\">\n",
       "  <thead>\n",
       "    <tr style=\"text-align: right;\">\n",
       "      <th></th>\n",
       "      <th>Age</th>\n",
       "      <th>Salary</th>\n",
       "      <th>No. of Children</th>\n",
       "    </tr>\n",
       "  </thead>\n",
       "  <tbody>\n",
       "    <tr>\n",
       "      <th>count</th>\n",
       "      <td>1000.000000</td>\n",
       "      <td>1000.000000</td>\n",
       "      <td>1000.000000</td>\n",
       "    </tr>\n",
       "    <tr>\n",
       "      <th>mean</th>\n",
       "      <td>39.536000</td>\n",
       "      <td>5303.460000</td>\n",
       "      <td>2.447000</td>\n",
       "    </tr>\n",
       "    <tr>\n",
       "      <th>std</th>\n",
       "      <td>12.477275</td>\n",
       "      <td>2761.864336</td>\n",
       "      <td>1.703553</td>\n",
       "    </tr>\n",
       "    <tr>\n",
       "      <th>min</th>\n",
       "      <td>18.000000</td>\n",
       "      <td>520.000000</td>\n",
       "      <td>0.000000</td>\n",
       "    </tr>\n",
       "    <tr>\n",
       "      <th>25%</th>\n",
       "      <td>29.000000</td>\n",
       "      <td>2955.500000</td>\n",
       "      <td>1.000000</td>\n",
       "    </tr>\n",
       "    <tr>\n",
       "      <th>50%</th>\n",
       "      <td>40.000000</td>\n",
       "      <td>5228.000000</td>\n",
       "      <td>2.000000</td>\n",
       "    </tr>\n",
       "    <tr>\n",
       "      <th>75%</th>\n",
       "      <td>50.000000</td>\n",
       "      <td>7814.750000</td>\n",
       "      <td>4.000000</td>\n",
       "    </tr>\n",
       "    <tr>\n",
       "      <th>max</th>\n",
       "      <td>60.000000</td>\n",
       "      <td>10000.000000</td>\n",
       "      <td>5.000000</td>\n",
       "    </tr>\n",
       "  </tbody>\n",
       "</table>\n",
       "</div>"
      ],
      "text/plain": [
       "               Age        Salary   No. of Children\n",
       "count  1000.000000   1000.000000       1000.000000\n",
       "mean     39.536000   5303.460000          2.447000\n",
       "std      12.477275   2761.864336          1.703553\n",
       "min      18.000000    520.000000          0.000000\n",
       "25%      29.000000   2955.500000          1.000000\n",
       "50%      40.000000   5228.000000          2.000000\n",
       "75%      50.000000   7814.750000          4.000000\n",
       "max      60.000000  10000.000000          5.000000"
      ]
     },
     "execution_count": 9,
     "metadata": {},
     "output_type": "execute_result"
    }
   ],
   "source": [
    "df.describe()"
   ]
  },
  {
   "cell_type": "markdown",
   "id": "0e501d2d",
   "metadata": {},
   "source": [
    "# 4.Total male and female in our dataset"
   ]
  },
  {
   "cell_type": "code",
   "execution_count": 69,
   "id": "4cbf4362",
   "metadata": {},
   "outputs": [
    {
     "data": {
      "text/plain": [
       "Male      514\n",
       "Female    486\n",
       "Name:  Gender, dtype: int64"
      ]
     },
     "execution_count": 69,
     "metadata": {},
     "output_type": "execute_result"
    }
   ],
   "source": [
    "df[' Gender'].value_counts()"
   ]
  },
  {
   "cell_type": "code",
   "execution_count": 76,
   "id": "57565ec5",
   "metadata": {},
   "outputs": [
    {
     "data": {
      "image/png": "[encoded data removed]",
      "text/plain": [
       "<Figure size 720x360 with 1 Axes>"
      ]
     },
     "metadata": {},
     "output_type": "display_data"
    }
   ],
   "source": [
    "plt.figure(figsize=(10,5))\n",
    "plt.bar(df[' Gender'].value_counts().keys(),df[' Gender'].value_counts(),color='r')\n",
    "plt.show()"
   ]
  },
  {
   "cell_type": "markdown",
   "id": "bd84d2e3",
   "metadata": {},
   "source": [
    "# 5.Total Married Person"
   ]
  },
  {
   "cell_type": "code",
   "execution_count": 39,
   "id": "b22cda55",
   "metadata": {},
   "outputs": [],
   "source": [
    "married=df[df[' Marital Status']=='Married']"
   ]
  },
  {
   "cell_type": "code",
   "execution_count": 77,
   "id": "9ffabe42",
   "metadata": {},
   "outputs": [
    {
     "data": {
      "text/html": [
       "<div>\n",
       "<style scoped>\n",
       "    .dataframe tbody tr th:only-of-type {\n",
       "        vertical-align: middle;\n",
       "    }\n",
       "\n",
       "    .dataframe tbody tr th {\n",
       "        vertical-align: top;\n",
       "    }\n",
       "\n",
       "    .dataframe thead th {\n",
       "        text-align: right;\n",
       "    }\n",
       "</style>\n",
       "<table border=\"1\" class=\"dataframe\">\n",
       "  <thead>\n",
       "    <tr style=\"text-align: right;\">\n",
       "      <th></th>\n",
       "      <th>First Name</th>\n",
       "      <th>Last  Name</th>\n",
       "      <th>Gender</th>\n",
       "      <th>Age</th>\n",
       "      <th>Occupation</th>\n",
       "      <th>Salary</th>\n",
       "      <th>Marital Status</th>\n",
       "      <th>No. of Children</th>\n",
       "    </tr>\n",
       "  </thead>\n",
       "  <tbody>\n",
       "    <tr>\n",
       "      <th>0</th>\n",
       "      <td>Jacob</td>\n",
       "      <td>Robinson</td>\n",
       "      <td>Male</td>\n",
       "      <td>58</td>\n",
       "      <td>Lawer</td>\n",
       "      <td>6779</td>\n",
       "      <td>Married</td>\n",
       "      <td>2</td>\n",
       "    </tr>\n",
       "    <tr>\n",
       "      <th>1</th>\n",
       "      <td>Grace</td>\n",
       "      <td>Taylor</td>\n",
       "      <td>Female</td>\n",
       "      <td>36</td>\n",
       "      <td>Insurer</td>\n",
       "      <td>4466</td>\n",
       "      <td>Married</td>\n",
       "      <td>1</td>\n",
       "    </tr>\n",
       "    <tr>\n",
       "      <th>3</th>\n",
       "      <td>Vanessa</td>\n",
       "      <td>Farrell</td>\n",
       "      <td>Female</td>\n",
       "      <td>23</td>\n",
       "      <td>Lawer</td>\n",
       "      <td>3403</td>\n",
       "      <td>Married</td>\n",
       "      <td>2</td>\n",
       "    </tr>\n",
       "    <tr>\n",
       "      <th>4</th>\n",
       "      <td>Fenton</td>\n",
       "      <td>Harrison</td>\n",
       "      <td>Male</td>\n",
       "      <td>21</td>\n",
       "      <td>Architect</td>\n",
       "      <td>693</td>\n",
       "      <td>Married</td>\n",
       "      <td>0</td>\n",
       "    </tr>\n",
       "    <tr>\n",
       "      <th>6</th>\n",
       "      <td>Belinda</td>\n",
       "      <td>Spencer</td>\n",
       "      <td>Female</td>\n",
       "      <td>24</td>\n",
       "      <td>Dancer</td>\n",
       "      <td>8927</td>\n",
       "      <td>Married</td>\n",
       "      <td>5</td>\n",
       "    </tr>\n",
       "    <tr>\n",
       "      <th>...</th>\n",
       "      <td>...</td>\n",
       "      <td>...</td>\n",
       "      <td>...</td>\n",
       "      <td>...</td>\n",
       "      <td>...</td>\n",
       "      <td>...</td>\n",
       "      <td>...</td>\n",
       "      <td>...</td>\n",
       "    </tr>\n",
       "    <tr>\n",
       "      <th>990</th>\n",
       "      <td>Adelaide</td>\n",
       "      <td>Montgomery</td>\n",
       "      <td>Female</td>\n",
       "      <td>25</td>\n",
       "      <td>Auditor</td>\n",
       "      <td>5217</td>\n",
       "      <td>Married</td>\n",
       "      <td>2</td>\n",
       "    </tr>\n",
       "    <tr>\n",
       "      <th>991</th>\n",
       "      <td>Rosie</td>\n",
       "      <td>Harper</td>\n",
       "      <td>Female</td>\n",
       "      <td>52</td>\n",
       "      <td>Meteorologist</td>\n",
       "      <td>9015</td>\n",
       "      <td>Married</td>\n",
       "      <td>0</td>\n",
       "    </tr>\n",
       "    <tr>\n",
       "      <th>994</th>\n",
       "      <td>Emily</td>\n",
       "      <td>Baker</td>\n",
       "      <td>Female</td>\n",
       "      <td>38</td>\n",
       "      <td>Social Worker</td>\n",
       "      <td>9116</td>\n",
       "      <td>Married</td>\n",
       "      <td>0</td>\n",
       "    </tr>\n",
       "    <tr>\n",
       "      <th>996</th>\n",
       "      <td>Lydia</td>\n",
       "      <td>Chapman</td>\n",
       "      <td>Female</td>\n",
       "      <td>21</td>\n",
       "      <td>Carpenter</td>\n",
       "      <td>4123</td>\n",
       "      <td>Married</td>\n",
       "      <td>0</td>\n",
       "    </tr>\n",
       "    <tr>\n",
       "      <th>997</th>\n",
       "      <td>Aiden</td>\n",
       "      <td>Chapman</td>\n",
       "      <td>Male</td>\n",
       "      <td>35</td>\n",
       "      <td>Historian</td>\n",
       "      <td>1753</td>\n",
       "      <td>Married</td>\n",
       "      <td>1</td>\n",
       "    </tr>\n",
       "  </tbody>\n",
       "</table>\n",
       "<p>487 rows × 8 columns</p>\n",
       "</div>"
      ],
      "text/plain": [
       "    First Name  Last  Name  Gender   Age     Occupation   Salary  \\\n",
       "0        Jacob    Robinson    Male    58          Lawer     6779   \n",
       "1        Grace      Taylor  Female    36        Insurer     4466   \n",
       "3      Vanessa     Farrell  Female    23          Lawer     3403   \n",
       "4       Fenton    Harrison    Male    21      Architect      693   \n",
       "6      Belinda     Spencer  Female    24         Dancer     8927   \n",
       "..         ...         ...     ...   ...            ...      ...   \n",
       "990   Adelaide  Montgomery  Female    25        Auditor     5217   \n",
       "991      Rosie      Harper  Female    52  Meteorologist     9015   \n",
       "994      Emily       Baker  Female    38  Social Worker     9116   \n",
       "996      Lydia     Chapman  Female    21      Carpenter     4123   \n",
       "997      Aiden     Chapman    Male    35      Historian     1753   \n",
       "\n",
       "     Marital Status   No. of Children  \n",
       "0           Married                 2  \n",
       "1           Married                 1  \n",
       "3           Married                 2  \n",
       "4           Married                 0  \n",
       "6           Married                 5  \n",
       "..              ...               ...  \n",
       "990         Married                 2  \n",
       "991         Married                 0  \n",
       "994         Married                 0  \n",
       "996         Married                 0  \n",
       "997         Married                 1  \n",
       "\n",
       "[487 rows x 8 columns]"
      ]
     },
     "execution_count": 77,
     "metadata": {},
     "output_type": "execute_result"
    }
   ],
   "source": [
    "married"
   ]
  },
  {
   "cell_type": "code",
   "execution_count": 111,
   "id": "e8c3867c",
   "metadata": {},
   "outputs": [
    {
     "data": {
      "image/png": "[encoded data removed]",
      "text/plain": [
       "<Figure size 360x360 with 1 Axes>"
      ]
     },
     "metadata": {},
     "output_type": "display_data"
    }
   ],
   "source": [
    "plt.bar(df[' Marital Status'].value_counts().keys(),df[' Marital Status'].value_counts())\n",
    "plt.grid(True)\n",
    "plt.show()"
   ]
  },
  {
   "cell_type": "markdown",
   "id": "55d6941f",
   "metadata": {},
   "source": [
    "### From the above result we can easly say that *487* person are married"
   ]
  },
  {
   "cell_type": "code",
   "execution_count": 41,
   "id": "89d84e1b",
   "metadata": {},
   "outputs": [
    {
     "data": {
      "text/html": [
       "<div>\n",
       "<style scoped>\n",
       "    .dataframe tbody tr th:only-of-type {\n",
       "        vertical-align: middle;\n",
       "    }\n",
       "\n",
       "    .dataframe tbody tr th {\n",
       "        vertical-align: top;\n",
       "    }\n",
       "\n",
       "    .dataframe thead th {\n",
       "        text-align: right;\n",
       "    }\n",
       "</style>\n",
       "<table border=\"1\" class=\"dataframe\">\n",
       "  <thead>\n",
       "    <tr style=\"text-align: right;\">\n",
       "      <th></th>\n",
       "      <th>First Name</th>\n",
       "      <th>Last  Name</th>\n",
       "      <th>Gender</th>\n",
       "      <th>Age</th>\n",
       "      <th>Occupation</th>\n",
       "      <th>Salary</th>\n",
       "      <th>Marital Status</th>\n",
       "      <th>No. of Children</th>\n",
       "    </tr>\n",
       "  </thead>\n",
       "  <tbody>\n",
       "    <tr>\n",
       "      <th>0</th>\n",
       "      <td>Jacob</td>\n",
       "      <td>Robinson</td>\n",
       "      <td>Male</td>\n",
       "      <td>58</td>\n",
       "      <td>Lawer</td>\n",
       "      <td>6779</td>\n",
       "      <td>Married</td>\n",
       "      <td>2</td>\n",
       "    </tr>\n",
       "    <tr>\n",
       "      <th>1</th>\n",
       "      <td>Grace</td>\n",
       "      <td>Taylor</td>\n",
       "      <td>Female</td>\n",
       "      <td>36</td>\n",
       "      <td>Insurer</td>\n",
       "      <td>4466</td>\n",
       "      <td>Married</td>\n",
       "      <td>1</td>\n",
       "    </tr>\n",
       "    <tr>\n",
       "      <th>3</th>\n",
       "      <td>Vanessa</td>\n",
       "      <td>Farrell</td>\n",
       "      <td>Female</td>\n",
       "      <td>23</td>\n",
       "      <td>Lawer</td>\n",
       "      <td>3403</td>\n",
       "      <td>Married</td>\n",
       "      <td>2</td>\n",
       "    </tr>\n",
       "    <tr>\n",
       "      <th>6</th>\n",
       "      <td>Belinda</td>\n",
       "      <td>Spencer</td>\n",
       "      <td>Female</td>\n",
       "      <td>24</td>\n",
       "      <td>Dancer</td>\n",
       "      <td>8927</td>\n",
       "      <td>Married</td>\n",
       "      <td>5</td>\n",
       "    </tr>\n",
       "    <tr>\n",
       "      <th>7</th>\n",
       "      <td>Ashton</td>\n",
       "      <td>Farrell</td>\n",
       "      <td>Male</td>\n",
       "      <td>30</td>\n",
       "      <td>Cook</td>\n",
       "      <td>916</td>\n",
       "      <td>Married</td>\n",
       "      <td>1</td>\n",
       "    </tr>\n",
       "    <tr>\n",
       "      <th>...</th>\n",
       "      <td>...</td>\n",
       "      <td>...</td>\n",
       "      <td>...</td>\n",
       "      <td>...</td>\n",
       "      <td>...</td>\n",
       "      <td>...</td>\n",
       "      <td>...</td>\n",
       "      <td>...</td>\n",
       "    </tr>\n",
       "    <tr>\n",
       "      <th>980</th>\n",
       "      <td>Oscar</td>\n",
       "      <td>Alexander</td>\n",
       "      <td>Male</td>\n",
       "      <td>44</td>\n",
       "      <td>Producer</td>\n",
       "      <td>7500</td>\n",
       "      <td>Married</td>\n",
       "      <td>1</td>\n",
       "    </tr>\n",
       "    <tr>\n",
       "      <th>981</th>\n",
       "      <td>Jessica</td>\n",
       "      <td>Fowler</td>\n",
       "      <td>Female</td>\n",
       "      <td>47</td>\n",
       "      <td>Hairdresser</td>\n",
       "      <td>1836</td>\n",
       "      <td>Married</td>\n",
       "      <td>4</td>\n",
       "    </tr>\n",
       "    <tr>\n",
       "      <th>983</th>\n",
       "      <td>Lucas</td>\n",
       "      <td>Jones</td>\n",
       "      <td>Male</td>\n",
       "      <td>54</td>\n",
       "      <td>Salesman</td>\n",
       "      <td>7428</td>\n",
       "      <td>Married</td>\n",
       "      <td>1</td>\n",
       "    </tr>\n",
       "    <tr>\n",
       "      <th>990</th>\n",
       "      <td>Adelaide</td>\n",
       "      <td>Montgomery</td>\n",
       "      <td>Female</td>\n",
       "      <td>25</td>\n",
       "      <td>Auditor</td>\n",
       "      <td>5217</td>\n",
       "      <td>Married</td>\n",
       "      <td>2</td>\n",
       "    </tr>\n",
       "    <tr>\n",
       "      <th>997</th>\n",
       "      <td>Aiden</td>\n",
       "      <td>Chapman</td>\n",
       "      <td>Male</td>\n",
       "      <td>35</td>\n",
       "      <td>Historian</td>\n",
       "      <td>1753</td>\n",
       "      <td>Married</td>\n",
       "      <td>1</td>\n",
       "    </tr>\n",
       "  </tbody>\n",
       "</table>\n",
       "<p>405 rows × 8 columns</p>\n",
       "</div>"
      ],
      "text/plain": [
       "    First Name  Last  Name  Gender   Age   Occupation   Salary  \\\n",
       "0        Jacob    Robinson    Male    58        Lawer     6779   \n",
       "1        Grace      Taylor  Female    36      Insurer     4466   \n",
       "3      Vanessa     Farrell  Female    23        Lawer     3403   \n",
       "6      Belinda     Spencer  Female    24       Dancer     8927   \n",
       "7       Ashton     Farrell    Male    30         Cook      916   \n",
       "..         ...         ...     ...   ...          ...      ...   \n",
       "980      Oscar   Alexander    Male    44     Producer     7500   \n",
       "981    Jessica      Fowler  Female    47  Hairdresser     1836   \n",
       "983      Lucas       Jones    Male    54     Salesman     7428   \n",
       "990   Adelaide  Montgomery  Female    25      Auditor     5217   \n",
       "997      Aiden     Chapman    Male    35    Historian     1753   \n",
       "\n",
       "     Marital Status   No. of Children  \n",
       "0           Married                 2  \n",
       "1           Married                 1  \n",
       "3           Married                 2  \n",
       "6           Married                 5  \n",
       "7           Married                 1  \n",
       "..              ...               ...  \n",
       "980         Married                 1  \n",
       "981         Married                 4  \n",
       "983         Married                 1  \n",
       "990         Married                 2  \n",
       "997         Married                 1  \n",
       "\n",
       "[405 rows x 8 columns]"
      ]
     },
     "execution_count": 41,
     "metadata": {},
     "output_type": "execute_result"
    }
   ],
   "source": [
    "married[married[' No. of Children']>=1]"
   ]
  },
  {
   "cell_type": "markdown",
   "id": "886a1b67",
   "metadata": {},
   "source": [
    "### 6.From This Analysis we find out that there is total *405* person who have atleast *One* Children"
   ]
  },
  {
   "cell_type": "code",
   "execution_count": 130,
   "id": "a0e3286f",
   "metadata": {},
   "outputs": [
    {
     "data": {
      "text/html": [
       "<div>\n",
       "<style scoped>\n",
       "    .dataframe tbody tr th:only-of-type {\n",
       "        vertical-align: middle;\n",
       "    }\n",
       "\n",
       "    .dataframe tbody tr th {\n",
       "        vertical-align: top;\n",
       "    }\n",
       "\n",
       "    .dataframe thead th {\n",
       "        text-align: right;\n",
       "    }\n",
       "</style>\n",
       "<table border=\"1\" class=\"dataframe\">\n",
       "  <thead>\n",
       "    <tr style=\"text-align: right;\">\n",
       "      <th></th>\n",
       "      <th>First Name</th>\n",
       "      <th>Last  Name</th>\n",
       "      <th>Gender</th>\n",
       "      <th>Age</th>\n",
       "      <th>Occupation</th>\n",
       "      <th>Salary</th>\n",
       "      <th>Marital Status</th>\n",
       "      <th>No. of Children</th>\n",
       "    </tr>\n",
       "  </thead>\n",
       "  <tbody>\n",
       "    <tr>\n",
       "      <th>0</th>\n",
       "      <td>Jacob</td>\n",
       "      <td>Robinson</td>\n",
       "      <td>Male</td>\n",
       "      <td>58</td>\n",
       "      <td>Lawer</td>\n",
       "      <td>6779</td>\n",
       "      <td>Married</td>\n",
       "      <td>2</td>\n",
       "    </tr>\n",
       "    <tr>\n",
       "      <th>1</th>\n",
       "      <td>Grace</td>\n",
       "      <td>Taylor</td>\n",
       "      <td>Female</td>\n",
       "      <td>36</td>\n",
       "      <td>Insurer</td>\n",
       "      <td>4466</td>\n",
       "      <td>Married</td>\n",
       "      <td>1</td>\n",
       "    </tr>\n",
       "    <tr>\n",
       "      <th>2</th>\n",
       "      <td>Charlie</td>\n",
       "      <td>Wilson</td>\n",
       "      <td>Male</td>\n",
       "      <td>58</td>\n",
       "      <td>Aeroplane Pilot</td>\n",
       "      <td>5786</td>\n",
       "      <td>Single</td>\n",
       "      <td>0</td>\n",
       "    </tr>\n",
       "    <tr>\n",
       "      <th>3</th>\n",
       "      <td>Vanessa</td>\n",
       "      <td>Farrell</td>\n",
       "      <td>Female</td>\n",
       "      <td>23</td>\n",
       "      <td>Lawer</td>\n",
       "      <td>3403</td>\n",
       "      <td>Married</td>\n",
       "      <td>2</td>\n",
       "    </tr>\n",
       "    <tr>\n",
       "      <th>4</th>\n",
       "      <td>Fenton</td>\n",
       "      <td>Harrison</td>\n",
       "      <td>Male</td>\n",
       "      <td>21</td>\n",
       "      <td>Architect</td>\n",
       "      <td>693</td>\n",
       "      <td>Married</td>\n",
       "      <td>0</td>\n",
       "    </tr>\n",
       "    <tr>\n",
       "      <th>...</th>\n",
       "      <td>...</td>\n",
       "      <td>...</td>\n",
       "      <td>...</td>\n",
       "      <td>...</td>\n",
       "      <td>...</td>\n",
       "      <td>...</td>\n",
       "      <td>...</td>\n",
       "      <td>...</td>\n",
       "    </tr>\n",
       "    <tr>\n",
       "      <th>995</th>\n",
       "      <td>Alina</td>\n",
       "      <td>Cameron</td>\n",
       "      <td>Female</td>\n",
       "      <td>38</td>\n",
       "      <td>Florist</td>\n",
       "      <td>1432</td>\n",
       "      <td>Single</td>\n",
       "      <td>4</td>\n",
       "    </tr>\n",
       "    <tr>\n",
       "      <th>996</th>\n",
       "      <td>Lydia</td>\n",
       "      <td>Chapman</td>\n",
       "      <td>Female</td>\n",
       "      <td>21</td>\n",
       "      <td>Carpenter</td>\n",
       "      <td>4123</td>\n",
       "      <td>Married</td>\n",
       "      <td>0</td>\n",
       "    </tr>\n",
       "    <tr>\n",
       "      <th>997</th>\n",
       "      <td>Aiden</td>\n",
       "      <td>Chapman</td>\n",
       "      <td>Male</td>\n",
       "      <td>35</td>\n",
       "      <td>Historian</td>\n",
       "      <td>1753</td>\n",
       "      <td>Married</td>\n",
       "      <td>1</td>\n",
       "    </tr>\n",
       "    <tr>\n",
       "      <th>998</th>\n",
       "      <td>Rosie</td>\n",
       "      <td>Douglas</td>\n",
       "      <td>Female</td>\n",
       "      <td>21</td>\n",
       "      <td>Hairdresser</td>\n",
       "      <td>5982</td>\n",
       "      <td>Single</td>\n",
       "      <td>5</td>\n",
       "    </tr>\n",
       "    <tr>\n",
       "      <th>999</th>\n",
       "      <td>Dexter</td>\n",
       "      <td>Williams</td>\n",
       "      <td>Male</td>\n",
       "      <td>58</td>\n",
       "      <td>Insurer</td>\n",
       "      <td>7075</td>\n",
       "      <td>Single</td>\n",
       "      <td>0</td>\n",
       "    </tr>\n",
       "  </tbody>\n",
       "</table>\n",
       "<p>1000 rows × 8 columns</p>\n",
       "</div>"
      ],
      "text/plain": [
       "    First Name  Last  Name  Gender   Age       Occupation   Salary  \\\n",
       "0        Jacob    Robinson    Male    58            Lawer     6779   \n",
       "1        Grace      Taylor  Female    36          Insurer     4466   \n",
       "2      Charlie      Wilson    Male    58  Aeroplane Pilot     5786   \n",
       "3      Vanessa     Farrell  Female    23            Lawer     3403   \n",
       "4       Fenton    Harrison    Male    21        Architect      693   \n",
       "..         ...         ...     ...   ...              ...      ...   \n",
       "995      Alina     Cameron  Female    38          Florist     1432   \n",
       "996      Lydia     Chapman  Female    21        Carpenter     4123   \n",
       "997      Aiden     Chapman    Male    35        Historian     1753   \n",
       "998      Rosie     Douglas  Female    21      Hairdresser     5982   \n",
       "999     Dexter    Williams    Male    58          Insurer     7075   \n",
       "\n",
       "     Marital Status   No. of Children  \n",
       "0           Married                 2  \n",
       "1           Married                 1  \n",
       "2            Single                 0  \n",
       "3           Married                 2  \n",
       "4           Married                 0  \n",
       "..              ...               ...  \n",
       "995          Single                 4  \n",
       "996         Married                 0  \n",
       "997         Married                 1  \n",
       "998          Single                 5  \n",
       "999          Single                 0  \n",
       "\n",
       "[1000 rows x 8 columns]"
      ]
     },
     "execution_count": 130,
     "metadata": {},
     "output_type": "execute_result"
    }
   ],
   "source": [
    "df"
   ]
  },
  {
   "cell_type": "markdown",
   "id": "46898841",
   "metadata": {},
   "source": [
    "## 7. Total Occupation"
   ]
  },
  {
   "cell_type": "code",
   "execution_count": 231,
   "id": "b3271eaa",
   "metadata": {},
   "outputs": [
    {
     "data": {
      "text/plain": [
       "1000"
      ]
     },
     "execution_count": 231,
     "metadata": {},
     "output_type": "execute_result"
    }
   ],
   "source": [
    "df[' Occupation'].value_counts().sum()"
   ]
  },
  {
   "cell_type": "code",
   "execution_count": 145,
   "id": "8484358c",
   "metadata": {},
   "outputs": [
    {
     "data": {
      "image/png": "[encoded data removed]",
      "text/plain": [
       "<Figure size 1440x720 with 1 Axes>"
      ]
     },
     "metadata": {},
     "output_type": "display_data"
    }
   ],
   "source": [
    "plt.figure(figsize=(20,10))\n",
    "plt.bar(df[' Occupation'].value_counts().keys(),df[' Occupation'].value_counts())\n",
    "plt.xticks(rotation=90)\n",
    "plt.ylabel('Total no. of person',fontsize=30)\n",
    "plt.title('No. of Occupation',fontsize=30)\n",
    "plt.show()"
   ]
  },
  {
   "cell_type": "code",
   "execution_count": 150,
   "id": "4cde37ed",
   "metadata": {},
   "outputs": [
    {
     "data": {
      "text/html": [
       "<div>\n",
       "<style scoped>\n",
       "    .dataframe tbody tr th:only-of-type {\n",
       "        vertical-align: middle;\n",
       "    }\n",
       "\n",
       "    .dataframe tbody tr th {\n",
       "        vertical-align: top;\n",
       "    }\n",
       "\n",
       "    .dataframe thead th {\n",
       "        text-align: right;\n",
       "    }\n",
       "</style>\n",
       "<table border=\"1\" class=\"dataframe\">\n",
       "  <thead>\n",
       "    <tr style=\"text-align: right;\">\n",
       "      <th></th>\n",
       "      <th>First Name</th>\n",
       "      <th>Last  Name</th>\n",
       "      <th>Gender</th>\n",
       "      <th>Age</th>\n",
       "      <th>Occupation</th>\n",
       "      <th>Salary</th>\n",
       "      <th>Marital Status</th>\n",
       "      <th>No. of Children</th>\n",
       "    </tr>\n",
       "  </thead>\n",
       "  <tbody>\n",
       "    <tr>\n",
       "      <th>2</th>\n",
       "      <td>Charlie</td>\n",
       "      <td>Wilson</td>\n",
       "      <td>Male</td>\n",
       "      <td>58</td>\n",
       "      <td>Aeroplane Pilot</td>\n",
       "      <td>5786</td>\n",
       "      <td>Single</td>\n",
       "      <td>0</td>\n",
       "    </tr>\n",
       "    <tr>\n",
       "      <th>5</th>\n",
       "      <td>Lucas</td>\n",
       "      <td>Brooks</td>\n",
       "      <td>Male</td>\n",
       "      <td>38</td>\n",
       "      <td>Auditor</td>\n",
       "      <td>3029</td>\n",
       "      <td>Single</td>\n",
       "      <td>1</td>\n",
       "    </tr>\n",
       "    <tr>\n",
       "      <th>10</th>\n",
       "      <td>Alina</td>\n",
       "      <td>Russell</td>\n",
       "      <td>Female</td>\n",
       "      <td>51</td>\n",
       "      <td>Engineer</td>\n",
       "      <td>8411</td>\n",
       "      <td>Single</td>\n",
       "      <td>0</td>\n",
       "    </tr>\n",
       "    <tr>\n",
       "      <th>11</th>\n",
       "      <td>Tiana</td>\n",
       "      <td>Wright</td>\n",
       "      <td>Female</td>\n",
       "      <td>59</td>\n",
       "      <td>Composer</td>\n",
       "      <td>8087</td>\n",
       "      <td>Single</td>\n",
       "      <td>4</td>\n",
       "    </tr>\n",
       "    <tr>\n",
       "      <th>12</th>\n",
       "      <td>Kimberly</td>\n",
       "      <td>Rogers</td>\n",
       "      <td>Female</td>\n",
       "      <td>54</td>\n",
       "      <td>Geologist</td>\n",
       "      <td>7929</td>\n",
       "      <td>Single</td>\n",
       "      <td>2</td>\n",
       "    </tr>\n",
       "    <tr>\n",
       "      <th>...</th>\n",
       "      <td>...</td>\n",
       "      <td>...</td>\n",
       "      <td>...</td>\n",
       "      <td>...</td>\n",
       "      <td>...</td>\n",
       "      <td>...</td>\n",
       "      <td>...</td>\n",
       "      <td>...</td>\n",
       "    </tr>\n",
       "    <tr>\n",
       "      <th>992</th>\n",
       "      <td>Sophia</td>\n",
       "      <td>Ferguson</td>\n",
       "      <td>Female</td>\n",
       "      <td>48</td>\n",
       "      <td>Architect</td>\n",
       "      <td>9636</td>\n",
       "      <td>Single</td>\n",
       "      <td>5</td>\n",
       "    </tr>\n",
       "    <tr>\n",
       "      <th>993</th>\n",
       "      <td>Fenton</td>\n",
       "      <td>Stewart</td>\n",
       "      <td>Male</td>\n",
       "      <td>53</td>\n",
       "      <td>Programmer</td>\n",
       "      <td>1777</td>\n",
       "      <td>Single</td>\n",
       "      <td>5</td>\n",
       "    </tr>\n",
       "    <tr>\n",
       "      <th>995</th>\n",
       "      <td>Alina</td>\n",
       "      <td>Cameron</td>\n",
       "      <td>Female</td>\n",
       "      <td>38</td>\n",
       "      <td>Florist</td>\n",
       "      <td>1432</td>\n",
       "      <td>Single</td>\n",
       "      <td>4</td>\n",
       "    </tr>\n",
       "    <tr>\n",
       "      <th>998</th>\n",
       "      <td>Rosie</td>\n",
       "      <td>Douglas</td>\n",
       "      <td>Female</td>\n",
       "      <td>21</td>\n",
       "      <td>Hairdresser</td>\n",
       "      <td>5982</td>\n",
       "      <td>Single</td>\n",
       "      <td>5</td>\n",
       "    </tr>\n",
       "    <tr>\n",
       "      <th>999</th>\n",
       "      <td>Dexter</td>\n",
       "      <td>Williams</td>\n",
       "      <td>Male</td>\n",
       "      <td>58</td>\n",
       "      <td>Insurer</td>\n",
       "      <td>7075</td>\n",
       "      <td>Single</td>\n",
       "      <td>0</td>\n",
       "    </tr>\n",
       "  </tbody>\n",
       "</table>\n",
       "<p>513 rows × 8 columns</p>\n",
       "</div>"
      ],
      "text/plain": [
       "    First Name  Last  Name  Gender   Age       Occupation   Salary  \\\n",
       "2      Charlie      Wilson    Male    58  Aeroplane Pilot     5786   \n",
       "5        Lucas      Brooks    Male    38          Auditor     3029   \n",
       "10       Alina     Russell  Female    51         Engineer     8411   \n",
       "11       Tiana      Wright  Female    59         Composer     8087   \n",
       "12    Kimberly      Rogers  Female    54        Geologist     7929   \n",
       "..         ...         ...     ...   ...              ...      ...   \n",
       "992     Sophia    Ferguson  Female    48        Architect     9636   \n",
       "993     Fenton     Stewart    Male    53       Programmer     1777   \n",
       "995      Alina     Cameron  Female    38          Florist     1432   \n",
       "998      Rosie     Douglas  Female    21      Hairdresser     5982   \n",
       "999     Dexter    Williams    Male    58          Insurer     7075   \n",
       "\n",
       "     Marital Status   No. of Children  \n",
       "2            Single                 0  \n",
       "5            Single                 1  \n",
       "10           Single                 0  \n",
       "11           Single                 4  \n",
       "12           Single                 2  \n",
       "..              ...               ...  \n",
       "992          Single                 5  \n",
       "993          Single                 5  \n",
       "995          Single                 4  \n",
       "998          Single                 5  \n",
       "999          Single                 0  \n",
       "\n",
       "[513 rows x 8 columns]"
      ]
     },
     "execution_count": 150,
     "metadata": {},
     "output_type": "execute_result"
    }
   ],
   "source": [
    "single=df[df[' Marital Status']=='Single']\n",
    "single"
   ]
  },
  {
   "cell_type": "markdown",
   "id": "20b0f595",
   "metadata": {},
   "source": [
    "## 8.There is total *513* person have *Single* marital Status"
   ]
  },
  {
   "cell_type": "code",
   "execution_count": 152,
   "id": "21c1aaed",
   "metadata": {},
   "outputs": [
    {
     "data": {
      "text/html": [
       "<div>\n",
       "<style scoped>\n",
       "    .dataframe tbody tr th:only-of-type {\n",
       "        vertical-align: middle;\n",
       "    }\n",
       "\n",
       "    .dataframe tbody tr th {\n",
       "        vertical-align: top;\n",
       "    }\n",
       "\n",
       "    .dataframe thead th {\n",
       "        text-align: right;\n",
       "    }\n",
       "</style>\n",
       "<table border=\"1\" class=\"dataframe\">\n",
       "  <thead>\n",
       "    <tr style=\"text-align: right;\">\n",
       "      <th></th>\n",
       "      <th>First Name</th>\n",
       "      <th>Last  Name</th>\n",
       "      <th>Gender</th>\n",
       "      <th>Age</th>\n",
       "      <th>Occupation</th>\n",
       "      <th>Salary</th>\n",
       "      <th>Marital Status</th>\n",
       "      <th>No. of Children</th>\n",
       "    </tr>\n",
       "  </thead>\n",
       "  <tbody>\n",
       "    <tr>\n",
       "      <th>5</th>\n",
       "      <td>Lucas</td>\n",
       "      <td>Brooks</td>\n",
       "      <td>Male</td>\n",
       "      <td>38</td>\n",
       "      <td>Auditor</td>\n",
       "      <td>3029</td>\n",
       "      <td>Single</td>\n",
       "      <td>1</td>\n",
       "    </tr>\n",
       "    <tr>\n",
       "      <th>11</th>\n",
       "      <td>Tiana</td>\n",
       "      <td>Wright</td>\n",
       "      <td>Female</td>\n",
       "      <td>59</td>\n",
       "      <td>Composer</td>\n",
       "      <td>8087</td>\n",
       "      <td>Single</td>\n",
       "      <td>4</td>\n",
       "    </tr>\n",
       "    <tr>\n",
       "      <th>12</th>\n",
       "      <td>Kimberly</td>\n",
       "      <td>Rogers</td>\n",
       "      <td>Female</td>\n",
       "      <td>54</td>\n",
       "      <td>Geologist</td>\n",
       "      <td>7929</td>\n",
       "      <td>Single</td>\n",
       "      <td>2</td>\n",
       "    </tr>\n",
       "    <tr>\n",
       "      <th>13</th>\n",
       "      <td>Amelia</td>\n",
       "      <td>Craig</td>\n",
       "      <td>Female</td>\n",
       "      <td>55</td>\n",
       "      <td>Scientist</td>\n",
       "      <td>9278</td>\n",
       "      <td>Single</td>\n",
       "      <td>2</td>\n",
       "    </tr>\n",
       "    <tr>\n",
       "      <th>14</th>\n",
       "      <td>Connie</td>\n",
       "      <td>Martin</td>\n",
       "      <td>Female</td>\n",
       "      <td>56</td>\n",
       "      <td>Economist</td>\n",
       "      <td>7868</td>\n",
       "      <td>Single</td>\n",
       "      <td>1</td>\n",
       "    </tr>\n",
       "    <tr>\n",
       "      <th>...</th>\n",
       "      <td>...</td>\n",
       "      <td>...</td>\n",
       "      <td>...</td>\n",
       "      <td>...</td>\n",
       "      <td>...</td>\n",
       "      <td>...</td>\n",
       "      <td>...</td>\n",
       "      <td>...</td>\n",
       "    </tr>\n",
       "    <tr>\n",
       "      <th>989</th>\n",
       "      <td>Lucia</td>\n",
       "      <td>Holmes</td>\n",
       "      <td>Female</td>\n",
       "      <td>33</td>\n",
       "      <td>Firefighter</td>\n",
       "      <td>8618</td>\n",
       "      <td>Single</td>\n",
       "      <td>4</td>\n",
       "    </tr>\n",
       "    <tr>\n",
       "      <th>992</th>\n",
       "      <td>Sophia</td>\n",
       "      <td>Ferguson</td>\n",
       "      <td>Female</td>\n",
       "      <td>48</td>\n",
       "      <td>Architect</td>\n",
       "      <td>9636</td>\n",
       "      <td>Single</td>\n",
       "      <td>5</td>\n",
       "    </tr>\n",
       "    <tr>\n",
       "      <th>993</th>\n",
       "      <td>Fenton</td>\n",
       "      <td>Stewart</td>\n",
       "      <td>Male</td>\n",
       "      <td>53</td>\n",
       "      <td>Programmer</td>\n",
       "      <td>1777</td>\n",
       "      <td>Single</td>\n",
       "      <td>5</td>\n",
       "    </tr>\n",
       "    <tr>\n",
       "      <th>995</th>\n",
       "      <td>Alina</td>\n",
       "      <td>Cameron</td>\n",
       "      <td>Female</td>\n",
       "      <td>38</td>\n",
       "      <td>Florist</td>\n",
       "      <td>1432</td>\n",
       "      <td>Single</td>\n",
       "      <td>4</td>\n",
       "    </tr>\n",
       "    <tr>\n",
       "      <th>998</th>\n",
       "      <td>Rosie</td>\n",
       "      <td>Douglas</td>\n",
       "      <td>Female</td>\n",
       "      <td>21</td>\n",
       "      <td>Hairdresser</td>\n",
       "      <td>5982</td>\n",
       "      <td>Single</td>\n",
       "      <td>5</td>\n",
       "    </tr>\n",
       "  </tbody>\n",
       "</table>\n",
       "<p>425 rows × 8 columns</p>\n",
       "</div>"
      ],
      "text/plain": [
       "    First Name  Last  Name  Gender   Age   Occupation   Salary  \\\n",
       "5        Lucas      Brooks    Male    38      Auditor     3029   \n",
       "11       Tiana      Wright  Female    59     Composer     8087   \n",
       "12    Kimberly      Rogers  Female    54    Geologist     7929   \n",
       "13      Amelia       Craig  Female    55    Scientist     9278   \n",
       "14      Connie      Martin  Female    56    Economist     7868   \n",
       "..         ...         ...     ...   ...          ...      ...   \n",
       "989      Lucia      Holmes  Female    33  Firefighter     8618   \n",
       "992     Sophia    Ferguson  Female    48    Architect     9636   \n",
       "993     Fenton     Stewart    Male    53   Programmer     1777   \n",
       "995      Alina     Cameron  Female    38      Florist     1432   \n",
       "998      Rosie     Douglas  Female    21  Hairdresser     5982   \n",
       "\n",
       "     Marital Status   No. of Children  \n",
       "5            Single                 1  \n",
       "11           Single                 4  \n",
       "12           Single                 2  \n",
       "13           Single                 2  \n",
       "14           Single                 1  \n",
       "..              ...               ...  \n",
       "989          Single                 4  \n",
       "992          Single                 5  \n",
       "993          Single                 5  \n",
       "995          Single                 4  \n",
       "998          Single                 5  \n",
       "\n",
       "[425 rows x 8 columns]"
      ]
     },
     "execution_count": 152,
     "metadata": {},
     "output_type": "execute_result"
    }
   ],
   "source": [
    "single[single[' No. of Children']>=1]"
   ]
  },
  {
   "cell_type": "markdown",
   "id": "1924ad16",
   "metadata": {},
   "source": [
    "## 9.There is Total *425* person have minimum *One* children and their marital Status is *Single*\n"
   ]
  },
  {
   "cell_type": "code",
   "execution_count": 153,
   "id": "9d2355f2",
   "metadata": {},
   "outputs": [
    {
     "data": {
      "text/html": [
       "<div>\n",
       "<style scoped>\n",
       "    .dataframe tbody tr th:only-of-type {\n",
       "        vertical-align: middle;\n",
       "    }\n",
       "\n",
       "    .dataframe tbody tr th {\n",
       "        vertical-align: top;\n",
       "    }\n",
       "\n",
       "    .dataframe thead th {\n",
       "        text-align: right;\n",
       "    }\n",
       "</style>\n",
       "<table border=\"1\" class=\"dataframe\">\n",
       "  <thead>\n",
       "    <tr style=\"text-align: right;\">\n",
       "      <th></th>\n",
       "      <th>First Name</th>\n",
       "      <th>Last  Name</th>\n",
       "      <th>Gender</th>\n",
       "      <th>Age</th>\n",
       "      <th>Occupation</th>\n",
       "      <th>Salary</th>\n",
       "      <th>Marital Status</th>\n",
       "      <th>No. of Children</th>\n",
       "    </tr>\n",
       "  </thead>\n",
       "  <tbody>\n",
       "    <tr>\n",
       "      <th>2</th>\n",
       "      <td>Charlie</td>\n",
       "      <td>Wilson</td>\n",
       "      <td>Male</td>\n",
       "      <td>58</td>\n",
       "      <td>Aeroplane Pilot</td>\n",
       "      <td>5786</td>\n",
       "      <td>Single</td>\n",
       "      <td>0</td>\n",
       "    </tr>\n",
       "    <tr>\n",
       "      <th>4</th>\n",
       "      <td>Fenton</td>\n",
       "      <td>Harrison</td>\n",
       "      <td>Male</td>\n",
       "      <td>21</td>\n",
       "      <td>Architect</td>\n",
       "      <td>693</td>\n",
       "      <td>Married</td>\n",
       "      <td>0</td>\n",
       "    </tr>\n",
       "    <tr>\n",
       "      <th>10</th>\n",
       "      <td>Alina</td>\n",
       "      <td>Russell</td>\n",
       "      <td>Female</td>\n",
       "      <td>51</td>\n",
       "      <td>Engineer</td>\n",
       "      <td>8411</td>\n",
       "      <td>Single</td>\n",
       "      <td>0</td>\n",
       "    </tr>\n",
       "    <tr>\n",
       "      <th>21</th>\n",
       "      <td>Tiana</td>\n",
       "      <td>Farrell</td>\n",
       "      <td>Female</td>\n",
       "      <td>43</td>\n",
       "      <td>Programmer</td>\n",
       "      <td>5120</td>\n",
       "      <td>Single</td>\n",
       "      <td>0</td>\n",
       "    </tr>\n",
       "    <tr>\n",
       "      <th>27</th>\n",
       "      <td>Emily</td>\n",
       "      <td>Chapman</td>\n",
       "      <td>Female</td>\n",
       "      <td>46</td>\n",
       "      <td>Lawer</td>\n",
       "      <td>6890</td>\n",
       "      <td>Single</td>\n",
       "      <td>0</td>\n",
       "    </tr>\n",
       "    <tr>\n",
       "      <th>...</th>\n",
       "      <td>...</td>\n",
       "      <td>...</td>\n",
       "      <td>...</td>\n",
       "      <td>...</td>\n",
       "      <td>...</td>\n",
       "      <td>...</td>\n",
       "      <td>...</td>\n",
       "      <td>...</td>\n",
       "    </tr>\n",
       "    <tr>\n",
       "      <th>988</th>\n",
       "      <td>Anna</td>\n",
       "      <td>Tucker</td>\n",
       "      <td>Female</td>\n",
       "      <td>28</td>\n",
       "      <td>Architect</td>\n",
       "      <td>5528</td>\n",
       "      <td>Married</td>\n",
       "      <td>0</td>\n",
       "    </tr>\n",
       "    <tr>\n",
       "      <th>991</th>\n",
       "      <td>Rosie</td>\n",
       "      <td>Harper</td>\n",
       "      <td>Female</td>\n",
       "      <td>52</td>\n",
       "      <td>Meteorologist</td>\n",
       "      <td>9015</td>\n",
       "      <td>Married</td>\n",
       "      <td>0</td>\n",
       "    </tr>\n",
       "    <tr>\n",
       "      <th>994</th>\n",
       "      <td>Emily</td>\n",
       "      <td>Baker</td>\n",
       "      <td>Female</td>\n",
       "      <td>38</td>\n",
       "      <td>Social Worker</td>\n",
       "      <td>9116</td>\n",
       "      <td>Married</td>\n",
       "      <td>0</td>\n",
       "    </tr>\n",
       "    <tr>\n",
       "      <th>996</th>\n",
       "      <td>Lydia</td>\n",
       "      <td>Chapman</td>\n",
       "      <td>Female</td>\n",
       "      <td>21</td>\n",
       "      <td>Carpenter</td>\n",
       "      <td>4123</td>\n",
       "      <td>Married</td>\n",
       "      <td>0</td>\n",
       "    </tr>\n",
       "    <tr>\n",
       "      <th>999</th>\n",
       "      <td>Dexter</td>\n",
       "      <td>Williams</td>\n",
       "      <td>Male</td>\n",
       "      <td>58</td>\n",
       "      <td>Insurer</td>\n",
       "      <td>7075</td>\n",
       "      <td>Single</td>\n",
       "      <td>0</td>\n",
       "    </tr>\n",
       "  </tbody>\n",
       "</table>\n",
       "<p>170 rows × 8 columns</p>\n",
       "</div>"
      ],
      "text/plain": [
       "    First Name  Last  Name  Gender   Age       Occupation   Salary  \\\n",
       "2      Charlie      Wilson    Male    58  Aeroplane Pilot     5786   \n",
       "4       Fenton    Harrison    Male    21        Architect      693   \n",
       "10       Alina     Russell  Female    51         Engineer     8411   \n",
       "21       Tiana     Farrell  Female    43       Programmer     5120   \n",
       "27       Emily     Chapman  Female    46            Lawer     6890   \n",
       "..         ...         ...     ...   ...              ...      ...   \n",
       "988       Anna      Tucker  Female    28        Architect     5528   \n",
       "991      Rosie      Harper  Female    52    Meteorologist     9015   \n",
       "994      Emily       Baker  Female    38    Social Worker     9116   \n",
       "996      Lydia     Chapman  Female    21        Carpenter     4123   \n",
       "999     Dexter    Williams    Male    58          Insurer     7075   \n",
       "\n",
       "     Marital Status   No. of Children  \n",
       "2            Single                 0  \n",
       "4           Married                 0  \n",
       "10           Single                 0  \n",
       "21           Single                 0  \n",
       "27           Single                 0  \n",
       "..              ...               ...  \n",
       "988         Married                 0  \n",
       "991         Married                 0  \n",
       "994         Married                 0  \n",
       "996         Married                 0  \n",
       "999          Single                 0  \n",
       "\n",
       "[170 rows x 8 columns]"
      ]
     },
     "execution_count": 153,
     "metadata": {},
     "output_type": "execute_result"
    }
   ],
   "source": [
    "df[df[' No. of Children']==0]"
   ]
  },
  {
   "cell_type": "markdown",
   "id": "36297e67",
   "metadata": {},
   "source": [
    "## 10.From the above table we can say that total 170 person have *0* Children"
   ]
  },
  {
   "cell_type": "code",
   "execution_count": 160,
   "id": "0b1b02f8",
   "metadata": {},
   "outputs": [
    {
     "data": {
      "text/plain": [
       "152    10000\n",
       "969     9999\n",
       "204     9990\n",
       "920     9990\n",
       "261     9986\n",
       "       ...  \n",
       "403      540\n",
       "270      524\n",
       "46       523\n",
       "155      521\n",
       "308      520\n",
       "Name:  Salary, Length: 1000, dtype: int64"
      ]
     },
     "execution_count": 160,
     "metadata": {},
     "output_type": "execute_result"
    }
   ],
   "source": [
    "df[' Salary'].sort_values(ascending=False)"
   ]
  },
  {
   "cell_type": "code",
   "execution_count": 208,
   "id": "c531db73",
   "metadata": {},
   "outputs": [],
   "source": [
    "maximum_salary=df.groupby([' Salary']).max().sort_values(ascending=False,by=' Salary')"
   ]
  },
  {
   "cell_type": "code",
   "execution_count": 209,
   "id": "68c0bdbf",
   "metadata": {},
   "outputs": [
    {
     "data": {
      "text/html": [
       "<div>\n",
       "<style scoped>\n",
       "    .dataframe tbody tr th:only-of-type {\n",
       "        vertical-align: middle;\n",
       "    }\n",
       "\n",
       "    .dataframe tbody tr th {\n",
       "        vertical-align: top;\n",
       "    }\n",
       "\n",
       "    .dataframe thead th {\n",
       "        text-align: right;\n",
       "    }\n",
       "</style>\n",
       "<table border=\"1\" class=\"dataframe\">\n",
       "  <thead>\n",
       "    <tr style=\"text-align: right;\">\n",
       "      <th></th>\n",
       "      <th>First Name</th>\n",
       "      <th>Last  Name</th>\n",
       "      <th>Gender</th>\n",
       "      <th>Age</th>\n",
       "      <th>Occupation</th>\n",
       "      <th>Marital Status</th>\n",
       "      <th>No. of Children</th>\n",
       "    </tr>\n",
       "    <tr>\n",
       "      <th>Salary</th>\n",
       "      <th></th>\n",
       "      <th></th>\n",
       "      <th></th>\n",
       "      <th></th>\n",
       "      <th></th>\n",
       "      <th></th>\n",
       "      <th></th>\n",
       "    </tr>\n",
       "  </thead>\n",
       "  <tbody>\n",
       "    <tr>\n",
       "      <th>10000</th>\n",
       "      <td>Myra</td>\n",
       "      <td>Grant</td>\n",
       "      <td>Female</td>\n",
       "      <td>47</td>\n",
       "      <td>Graphic Designer</td>\n",
       "      <td>Married</td>\n",
       "      <td>2</td>\n",
       "    </tr>\n",
       "    <tr>\n",
       "      <th>9999</th>\n",
       "      <td>Reid</td>\n",
       "      <td>Scott</td>\n",
       "      <td>Male</td>\n",
       "      <td>49</td>\n",
       "      <td>Meteorologist</td>\n",
       "      <td>Single</td>\n",
       "      <td>5</td>\n",
       "    </tr>\n",
       "    <tr>\n",
       "      <th>9990</th>\n",
       "      <td>David</td>\n",
       "      <td>Rogers</td>\n",
       "      <td>Male</td>\n",
       "      <td>45</td>\n",
       "      <td>Veterinarian</td>\n",
       "      <td>Married</td>\n",
       "      <td>3</td>\n",
       "    </tr>\n",
       "    <tr>\n",
       "      <th>9986</th>\n",
       "      <td>Maria</td>\n",
       "      <td>Crawford</td>\n",
       "      <td>Female</td>\n",
       "      <td>18</td>\n",
       "      <td>Physicist</td>\n",
       "      <td>Single</td>\n",
       "      <td>1</td>\n",
       "    </tr>\n",
       "    <tr>\n",
       "      <th>9974</th>\n",
       "      <td>Kirsten</td>\n",
       "      <td>Perry</td>\n",
       "      <td>Female</td>\n",
       "      <td>30</td>\n",
       "      <td>Meteorologist</td>\n",
       "      <td>Single</td>\n",
       "      <td>3</td>\n",
       "    </tr>\n",
       "    <tr>\n",
       "      <th>...</th>\n",
       "      <td>...</td>\n",
       "      <td>...</td>\n",
       "      <td>...</td>\n",
       "      <td>...</td>\n",
       "      <td>...</td>\n",
       "      <td>...</td>\n",
       "      <td>...</td>\n",
       "    </tr>\n",
       "    <tr>\n",
       "      <th>540</th>\n",
       "      <td>Myra</td>\n",
       "      <td>Montgomery</td>\n",
       "      <td>Female</td>\n",
       "      <td>60</td>\n",
       "      <td>Pharmacist</td>\n",
       "      <td>Married</td>\n",
       "      <td>3</td>\n",
       "    </tr>\n",
       "    <tr>\n",
       "      <th>524</th>\n",
       "      <td>Honey</td>\n",
       "      <td>Russell</td>\n",
       "      <td>Female</td>\n",
       "      <td>55</td>\n",
       "      <td>Veterinarian</td>\n",
       "      <td>Single</td>\n",
       "      <td>2</td>\n",
       "    </tr>\n",
       "    <tr>\n",
       "      <th>523</th>\n",
       "      <td>Alexia</td>\n",
       "      <td>Cooper</td>\n",
       "      <td>Female</td>\n",
       "      <td>29</td>\n",
       "      <td>Auditor</td>\n",
       "      <td>Married</td>\n",
       "      <td>0</td>\n",
       "    </tr>\n",
       "    <tr>\n",
       "      <th>521</th>\n",
       "      <td>Aston</td>\n",
       "      <td>Ellis</td>\n",
       "      <td>Male</td>\n",
       "      <td>53</td>\n",
       "      <td>Historian</td>\n",
       "      <td>Single</td>\n",
       "      <td>4</td>\n",
       "    </tr>\n",
       "    <tr>\n",
       "      <th>520</th>\n",
       "      <td>Penelope</td>\n",
       "      <td>Henderson</td>\n",
       "      <td>Female</td>\n",
       "      <td>38</td>\n",
       "      <td>Singer</td>\n",
       "      <td>Single</td>\n",
       "      <td>5</td>\n",
       "    </tr>\n",
       "  </tbody>\n",
       "</table>\n",
       "<p>957 rows × 7 columns</p>\n",
       "</div>"
      ],
      "text/plain": [
       "        First Name  Last  Name  Gender   Age        Occupation  \\\n",
       " Salary                                                          \n",
       "10000         Myra       Grant  Female    47  Graphic Designer   \n",
       "9999          Reid       Scott    Male    49     Meteorologist   \n",
       "9990         David      Rogers    Male    45      Veterinarian   \n",
       "9986         Maria    Crawford  Female    18         Physicist   \n",
       "9974       Kirsten       Perry  Female    30     Meteorologist   \n",
       "...            ...         ...     ...   ...               ...   \n",
       "540           Myra  Montgomery  Female    60        Pharmacist   \n",
       "524          Honey     Russell  Female    55      Veterinarian   \n",
       "523         Alexia      Cooper  Female    29           Auditor   \n",
       "521          Aston       Ellis    Male    53         Historian   \n",
       "520       Penelope   Henderson  Female    38            Singer   \n",
       "\n",
       "         Marital Status   No. of Children  \n",
       " Salary                                    \n",
       "10000           Married                 2  \n",
       "9999             Single                 5  \n",
       "9990            Married                 3  \n",
       "9986             Single                 1  \n",
       "9974             Single                 3  \n",
       "...                 ...               ...  \n",
       "540             Married                 3  \n",
       "524              Single                 2  \n",
       "523             Married                 0  \n",
       "521              Single                 4  \n",
       "520              Single                 5  \n",
       "\n",
       "[957 rows x 7 columns]"
      ]
     },
     "execution_count": 209,
     "metadata": {},
     "output_type": "execute_result"
    }
   ],
   "source": [
    "maximum_salary"
   ]
  },
  {
   "cell_type": "markdown",
   "id": "56431898",
   "metadata": {},
   "source": [
    "### 11.From the above table we can say that Myra Grant have maximum Salary or we can say that Graphic Designer have maximum salary\n",
    "### 12. Penelope have Minimum Salary"
   ]
  },
  {
   "cell_type": "code",
   "execution_count": 210,
   "id": "bc65b030",
   "metadata": {},
   "outputs": [
    {
     "data": {
      "text/html": [
       "<div>\n",
       "<style scoped>\n",
       "    .dataframe tbody tr th:only-of-type {\n",
       "        vertical-align: middle;\n",
       "    }\n",
       "\n",
       "    .dataframe tbody tr th {\n",
       "        vertical-align: top;\n",
       "    }\n",
       "\n",
       "    .dataframe thead th {\n",
       "        text-align: right;\n",
       "    }\n",
       "</style>\n",
       "<table border=\"1\" class=\"dataframe\">\n",
       "  <thead>\n",
       "    <tr style=\"text-align: right;\">\n",
       "      <th></th>\n",
       "      <th>First Name</th>\n",
       "      <th>Last  Name</th>\n",
       "      <th>Gender</th>\n",
       "      <th>Age</th>\n",
       "      <th>Occupation</th>\n",
       "      <th>Salary</th>\n",
       "      <th>Marital Status</th>\n",
       "      <th>No. of Children</th>\n",
       "    </tr>\n",
       "  </thead>\n",
       "  <tbody>\n",
       "    <tr>\n",
       "      <th>152</th>\n",
       "      <td>Myra</td>\n",
       "      <td>Grant</td>\n",
       "      <td>Female</td>\n",
       "      <td>47</td>\n",
       "      <td>Graphic Designer</td>\n",
       "      <td>10000</td>\n",
       "      <td>Married</td>\n",
       "      <td>2</td>\n",
       "    </tr>\n",
       "  </tbody>\n",
       "</table>\n",
       "</div>"
      ],
      "text/plain": [
       "    First Name  Last  Name  Gender   Age        Occupation   Salary  \\\n",
       "152       Myra       Grant  Female    47  Graphic Designer    10000   \n",
       "\n",
       "     Marital Status   No. of Children  \n",
       "152         Married                 2  "
      ]
     },
     "execution_count": 210,
     "metadata": {},
     "output_type": "execute_result"
    }
   ],
   "source": [
    "df[df[' Salary']==10000]"
   ]
  },
  {
   "cell_type": "code",
   "execution_count": 211,
   "id": "49b9f8a3",
   "metadata": {},
   "outputs": [
    {
     "data": {
      "text/html": [
       "<div>\n",
       "<style scoped>\n",
       "    .dataframe tbody tr th:only-of-type {\n",
       "        vertical-align: middle;\n",
       "    }\n",
       "\n",
       "    .dataframe tbody tr th {\n",
       "        vertical-align: top;\n",
       "    }\n",
       "\n",
       "    .dataframe thead th {\n",
       "        text-align: right;\n",
       "    }\n",
       "</style>\n",
       "<table border=\"1\" class=\"dataframe\">\n",
       "  <thead>\n",
       "    <tr style=\"text-align: right;\">\n",
       "      <th></th>\n",
       "      <th>First Name</th>\n",
       "      <th>Last  Name</th>\n",
       "      <th>Gender</th>\n",
       "      <th>Age</th>\n",
       "      <th>Occupation</th>\n",
       "      <th>Salary</th>\n",
       "      <th>Marital Status</th>\n",
       "      <th>No. of Children</th>\n",
       "    </tr>\n",
       "  </thead>\n",
       "  <tbody>\n",
       "    <tr>\n",
       "      <th>308</th>\n",
       "      <td>Penelope</td>\n",
       "      <td>Henderson</td>\n",
       "      <td>Female</td>\n",
       "      <td>38</td>\n",
       "      <td>Singer</td>\n",
       "      <td>520</td>\n",
       "      <td>Single</td>\n",
       "      <td>5</td>\n",
       "    </tr>\n",
       "  </tbody>\n",
       "</table>\n",
       "</div>"
      ],
      "text/plain": [
       "    First Name  Last  Name  Gender   Age  Occupation   Salary  Marital Status  \\\n",
       "308   Penelope   Henderson  Female    38      Singer      520          Single   \n",
       "\n",
       "      No. of Children  \n",
       "308                 5  "
      ]
     },
     "execution_count": 211,
     "metadata": {},
     "output_type": "execute_result"
    }
   ],
   "source": [
    "df[df[\" Salary\"]==520]"
   ]
  },
  {
   "cell_type": "markdown",
   "id": "a22bf7d8",
   "metadata": {},
   "source": [
    "# 13.Total Engineer in our dataset"
   ]
  },
  {
   "cell_type": "code",
   "execution_count": 212,
   "id": "2663a3c7",
   "metadata": {},
   "outputs": [],
   "source": [
    "engineer=df[df[' Occupation']=='Engineer']"
   ]
  },
  {
   "cell_type": "code",
   "execution_count": 213,
   "id": "8d89b2c7",
   "metadata": {},
   "outputs": [
    {
     "data": {
      "text/plain": [
       "Engineer    23\n",
       "Name:  Occupation, dtype: int64"
      ]
     },
     "execution_count": 213,
     "metadata": {},
     "output_type": "execute_result"
    }
   ],
   "source": [
    "engineer[' Occupation'].value_counts()"
   ]
  },
  {
   "cell_type": "markdown",
   "id": "111e022c",
   "metadata": {},
   "source": [
    "### There is total 23 Engineer in our dataset like this we can see other no. of occupation"
   ]
  },
  {
   "cell_type": "markdown",
   "id": "8b360a55",
   "metadata": {},
   "source": [
    "# 14.Person above 30 year"
   ]
  },
  {
   "cell_type": "code",
   "execution_count": 215,
   "id": "3a614602",
   "metadata": {},
   "outputs": [],
   "source": [
    "above_30=df[df[' Age']>30]"
   ]
  },
  {
   "cell_type": "code",
   "execution_count": 217,
   "id": "b1345bc1",
   "metadata": {},
   "outputs": [
    {
     "data": {
      "text/plain": [
       "706"
      ]
     },
     "execution_count": 217,
     "metadata": {},
     "output_type": "execute_result"
    }
   ],
   "source": [
    "above_30[' Age'].value_counts().sum()"
   ]
  },
  {
   "cell_type": "markdown",
   "id": "3b5b489c",
   "metadata": {},
   "source": [
    "## There is total 706 people who is more than 30"
   ]
  },
  {
   "cell_type": "code",
   "execution_count": 225,
   "id": "04714836",
   "metadata": {},
   "outputs": [
    {
     "data": {
      "text/plain": [
       "8853    1\n",
       "6452    1\n",
       "7282    1\n",
       "8791    1\n",
       "5011    1\n",
       "       ..\n",
       "7380    2\n",
       "8604    2\n",
       "6130    2\n",
       "1458    2\n",
       "9296    2\n",
       "Name:  Salary, Length: 957, dtype: int64"
      ]
     },
     "execution_count": 225,
     "metadata": {},
     "output_type": "execute_result"
    }
   ],
   "source": [
    "df[' Salary'].value_counts().sort_values(ascending=True)"
   ]
  },
  {
   "cell_type": "code",
   "execution_count": 228,
   "id": "ad704ddf",
   "metadata": {},
   "outputs": [
    {
     "data": {
      "image/png": "[encoded data removed]",
      "text/plain": [
       "<Figure size 360x360 with 1 Axes>"
      ]
     },
     "metadata": {},
     "output_type": "display_data"
    }
   ],
   "source": [
    "plt.pie(df[' Salary'].value_counts()[0:10],labels=df[' Salary'].value_counts()[0:10].keys(),autopct=\"%0.1f%%\",radius=2)\n",
    "plt.show()"
   ]
  },
  {
   "cell_type": "markdown",
   "id": "3b7417e6",
   "metadata": {},
   "source": [
    "### 15. As we can see from the pie chart that first 10 persons salary have equally distribute"
   ]
  },
  {
   "cell_type": "markdown",
   "id": "83358841",
   "metadata": {},
   "source": [
    "# 16. Most occupation"
   ]
  },
  {
   "cell_type": "code",
   "execution_count": 232,
   "id": "98219e3b",
   "metadata": {},
   "outputs": [
    {
     "data": {
      "text/plain": [
       "Insurer        29\n",
       "Biochemist     28\n",
       "Agronomist     24\n",
       "Driver         24\n",
       "Programmer     24\n",
       "Singer         24\n",
       "Lecturer       23\n",
       "Electrician    23\n",
       "Engineer       23\n",
       "Botanist       23\n",
       "Name:  Occupation, dtype: int64"
      ]
     },
     "execution_count": 232,
     "metadata": {},
     "output_type": "execute_result"
    }
   ],
   "source": [
    "df[' Occupation'].value_counts()[:10]"
   ]
  },
  {
   "cell_type": "markdown",
   "id": "2d0aa229",
   "metadata": {},
   "source": [
    "## Most occuption is *INSURER*"
   ]
  },
  {
   "cell_type": "markdown",
   "id": "fa2e20e3",
   "metadata": {},
   "source": [
    "## 17. Making a pie chart"
   ]
  },
  {
   "cell_type": "code",
   "execution_count": 234,
   "id": "15a2bbc0",
   "metadata": {},
   "outputs": [
    {
     "data": {
      "image/png": "[encoded data removed]",
      "text/plain": [
       "<Figure size 360x360 with 1 Axes>"
      ]
     },
     "metadata": {},
     "output_type": "display_data"
    }
   ],
   "source": [
    "plt.pie(df[' Occupation'].value_counts()[0:10],labels=df[' Occupation'].value_counts()[0:10].keys(),autopct=\"%0.1f%%\",radius=1.5)\n",
    "plt.show()"
   ]
  },
  {
   "cell_type": "markdown",
   "id": "c6252cad",
   "metadata": {},
   "source": [
    "## 18.Most Children"
   ]
  },
  {
   "cell_type": "code",
   "execution_count": 236,
   "id": "5cbc0804",
   "metadata": {},
   "outputs": [
    {
     "data": {
      "text/plain": [
       "1    180\n",
       "0    170\n",
       "3    166\n",
       "4    165\n",
       "2    162\n",
       "5    157\n",
       "Name:  No. of Children, dtype: int64"
      ]
     },
     "execution_count": 236,
     "metadata": {},
     "output_type": "execute_result"
    }
   ],
   "source": [
    "df[' No. of Children'].value_counts()"
   ]
  },
  {
   "cell_type": "markdown",
   "id": "960763aa",
   "metadata": {},
   "source": [
    "## 19. Making donut chart"
   ]
  },
  {
   "cell_type": "code",
   "execution_count": 239,
   "id": "fd2a6cec",
   "metadata": {},
   "outputs": [
    {
     "data": {
      "image/png": "[encoded data removed]",
      "text/plain": [
       "<Figure size 360x360 with 1 Axes>"
      ]
     },
     "metadata": {},
     "output_type": "display_data"
    }
   ],
   "source": [
    "plt.pie(df[' No. of Children'].value_counts(),labels=df[' No. of Children'].value_counts().keys(),autopct=\"%0.1f%%\",radius=1.5)\n",
    "plt.pie([10],radius=0.5,colors='w')\n",
    "plt.show()"
   ]
  },
  {
   "cell_type": "markdown",
   "id": "40f9581b",
   "metadata": {},
   "source": [
    "## 20.From the above donut chart we can say that most people have *ONE* Children"
   ]
  },
  {
   "cell_type": "code",
   "execution_count": null,
   "id": "95d65a98",
   "metadata": {},
   "outputs": [],
   "source": []
  }
 ],
 "metadata": {
  "kernelspec": {
   "display_name": "Python 3 (ipykernel)",
   "language": "python",
   "name": "python3"
  },
  "language_info": {
   "codemirror_mode": {
    "name": "ipython",
    "version": 3
   },
   "file_extension": ".py",
   "mimetype": "text/x-python",
   "name": "python",
   "nbconvert_exporter": "python",
   "pygments_lexer": "ipython3",
   "version": "3.9.7"
  }
 },
 "nbformat": 4,
 "nbformat_minor": 5
}
